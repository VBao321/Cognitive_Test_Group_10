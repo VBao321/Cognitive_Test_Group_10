{
 "cells": [
  {
   "cell_type": "code",
   "execution_count": 1,
   "id": "88271af3-2752-4c76-bf8c-bde167fc744f",
   "metadata": {},
   "outputs": [],
   "source": [
    "import requests\n",
    "from bs4 import BeautifulSoup\n",
    "import json\n",
    "\n",
    "def send_data(data_dict, form_id):\n",
    "    ''' \n",
    "    Submits data to a Google Form.\n",
    "    \n",
    "    Parameters:\n",
    "        data_dict (dict): A dictionary containing form data where keys are form item names and values are corresponding data.\n",
    "        form_id (str): The ID of the Google Form to which the data will be submitted.\n",
    "        \n",
    "    Returns:\n",
    "        bool: True if the data was successfully submitted, False otherwise.\n",
    "    '''\n",
    "\n",
    "    # Define the URLs for viewing and submitting the Google Form.\n",
    "    view_form_url = f'https://docs.google.com/forms/d/e/{form_id}/viewform'\n",
    "    post_form_url = f'https://docs.google.com/forms/d/e/{form_id}/formResponse'\n",
    "\n",
    "    # Fetch the content of the view form page and extract the form data structure.\n",
    "    page = requests.get(view_form_url)\n",
    "    content = BeautifulSoup(page.content, \"html.parser\").find('script', type='text/javascript')\n",
    "    content = content.text[27:-1]\n",
    "    result = json.loads(content)[1][1]\n",
    "    form_dict = {}\n",
    "    \n",
    "    # Prepare the data to be submitted to the Google Form.\n",
    "    loaded_all = True\n",
    "    for item in result:\n",
    "        if item[1] not in data_dict:\n",
    "            print(f\"Form item {item[1]} not found. Data not uploaded.\")\n",
    "            loaded_all = False\n",
    "            return False\n",
    "        form_dict[f'entry.{item[4][0][0]}'] = data_dict[item[1]]\n",
    "    \n",
    "    # Submit the data to the Google Form using a POST request.\n",
    "    post_result = requests.post(post_form_url, data=form_dict)\n",
    "    return post_result.ok"
   ]
  }
 ],
 "metadata": {
  "kernelspec": {
   "display_name": "Python 3 (ipykernel)",
   "language": "python",
   "name": "python3"
  },
  "language_info": {
   "codemirror_mode": {
    "name": "ipython",
    "version": 3
   },
   "file_extension": ".py",
   "mimetype": "text/x-python",
   "name": "python",
   "nbconvert_exporter": "python",
   "pygments_lexer": "ipython3",
   "version": "3.10.9"
  }
 },
 "nbformat": 4,
 "nbformat_minor": 5
}
