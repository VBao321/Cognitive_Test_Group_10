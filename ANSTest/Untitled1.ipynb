{
 "cells": [
  {
   "cell_type": "code",
   "execution_count": 41,
   "id": "7df21a8a-9d29-4e25-b358-920c79a64967",
   "metadata": {},
   "outputs": [],
   "source": [
    "import re\n",
    "import requests\n",
    "from bs4 import BeautifulSoup\n",
    "import json\n",
    "\n",
    "import requests\n",
    "import pandas as pd\n",
    "from io import StringIO"
   ]
  },
  {
   "cell_type": "code",
   "execution_count": 45,
   "id": "0a8c6317-b7b8-45eb-82b8-a52e1ff28099",
   "metadata": {},
   "outputs": [],
   "source": [
    "def get_data(data_keys, sheet_id):\n",
    "    \"\"\"\n",
    "    Fetches specified columns from a public Google Sheets document and returns the data as a list of lists.\n",
    "    \n",
    "    Parameters:\n",
    "        data_keys (list of str): A list of strings representing the column names to retrieve.\n",
    "        sheet_id (str): The unique identifier of the Google Sheets document.\n",
    "    \n",
    "    Returns:\n",
    "        data_list (list of lists): A list where each sublist contains all the values from one of the specified columns.\n",
    "    \"\"\"\n",
    "    \n",
    "    # Initialize an empty list to store data from each specified column\n",
    "    data_list = []\n",
    "        \n",
    "    # Define the URLs for viewing the Google Form.\n",
    "    view_sheet_url = f'https://docs.google.com/spreadsheets/d/{sheet_id}/export?format=csv'\n",
    "\n",
    "    # Fetch CSV and load into DataFrame\n",
    "    response = requests.get(view_sheet_url)\n",
    "    data = pd.read_csv(StringIO(response.text))\n",
    "    \n",
    "    # Save DataFrame to CSV\n",
    "    csv_path = './Data/output.xlsx'\n",
    "    data.to_csv(csv_path, index=False)\n",
    "    \n",
    "    # Read CSV back into DataFrame\n",
    "    df = pd.read_csv(csv_path)\n",
    "    \n",
    "    # Extract data for each specified column\n",
    "    for key in data_keys:\n",
    "        key_list = df[key].tolist()\n",
    "        data_list.append(key_list)\n",
    "    \n",
    "    return data_list"
   ]
  },
  {
   "cell_type": "code",
   "execution_count": 46,
   "id": "1bbd7b53-d0c6-4550-bde8-4e9c75763818",
   "metadata": {},
   "outputs": [
    {
     "data": {
      "text/plain": [
       "[['Vicnent', 'Bella'], ['tired', 'tired']]"
      ]
     },
     "execution_count": 46,
     "metadata": {},
     "output_type": "execute_result"
    }
   ],
   "source": [
    "get_data([\"name\", \"tiredness\"], \"1TomVnQhqbMYalXHE-I0FnCD02LeFsERTfCjd6f3jRlQ\")"
   ]
  },
  {
   "cell_type": "code",
   "execution_count": null,
   "id": "4bc132ce-0b2f-4ff5-91d1-04398fbde392",
   "metadata": {},
   "outputs": [],
   "source": []
  }
 ],
 "metadata": {
  "kernelspec": {
   "display_name": "Python 3 (ipykernel)",
   "language": "python",
   "name": "python3"
  },
  "language_info": {
   "codemirror_mode": {
    "name": "ipython",
    "version": 3
   },
   "file_extension": ".py",
   "mimetype": "text/x-python",
   "name": "python",
   "nbconvert_exporter": "python",
   "pygments_lexer": "ipython3",
   "version": "3.10.9"
  }
 },
 "nbformat": 4,
 "nbformat_minor": 5
}
