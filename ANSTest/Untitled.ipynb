{
 "cells": [
  {
   "cell_type": "code",
   "execution_count": 1,
   "id": "842918bc-5182-4ab3-a100-ef78013a4f05",
   "metadata": {},
   "outputs": [],
   "source": [
    "import question_constructor as qc\n",
    "import ANSQuestion_generator as ag\n",
    "from IPython.display import display, Image, clear_output, HTML, Javascript\n",
    "import time"
   ]
  },
  {
   "cell_type": "code",
   "execution_count": 2,
   "id": "520fca22-6d44-4360-af09-c9a6675c6230",
   "metadata": {},
   "outputs": [],
   "source": [
    "image_list, num_points_list, answer_list = ag.ANSQuestion_bank(12)"
   ]
  },
  {
   "cell_type": "code",
   "execution_count": 3,
   "id": "3e18019d-9afe-4a9e-8ea7-e486be9e6dca",
   "metadata": {},
   "outputs": [],
   "source": [
    "question_list=[]\n",
    "for idx in range(64):\n",
    "    image=image_list[idx]\n",
    "    answer=answer_list[idx]\n",
    "    question = qc.ANSQuestion(description=\"Choose left or right\", description_img=image, answer=answer)\n",
    "    question_list.append(question)"
   ]
  },
  {
   "cell_type": "code",
   "execution_count": 4,
   "id": "bf84e47e-8141-48fa-9fc8-4b6957440698",
   "metadata": {},
   "outputs": [
    {
     "data": {
      "text/html": [
       "<span style='font-size: 20px'>Question 11/64<span>"
      ]
     },
     "metadata": {},
     "output_type": "display_data"
    },
    {
     "data": {
      "text/html": [
       "\n",
       "                        <img src='./Figures/Fixation_cross.png' style='width:310px; height:300px'>\n",
       "                        <span style='color:red; font-size: 30px'>Choose left or right</span>\n",
       "                        "
      ]
     },
     "metadata": {},
     "output_type": "display_data"
    },
    {
     "data": {
      "application/vnd.jupyter.widget-view+json": {
       "model_id": "559f7eae91c74af89e1dc4ac9c29d937",
       "version_major": 2,
       "version_minor": 0
      },
      "text/plain": [
       "HBox(children=(Button(description='Left', layout=Layout(width='150px'), style=ButtonStyle(button_color='lightg…"
      ]
     },
     "metadata": {},
     "output_type": "display_data"
    },
    {
     "ename": "KeyboardInterrupt",
     "evalue": "",
     "output_type": "error",
     "traceback": [
      "\u001b[1;31m---------------------------------------------------------------------------\u001b[0m",
      "\u001b[1;31mKeyboardInterrupt\u001b[0m                         Traceback (most recent call last)",
      "Cell \u001b[1;32mIn[4], line 3\u001b[0m\n\u001b[0;32m      1\u001b[0m \u001b[38;5;28;01mfor\u001b[39;00m idx \u001b[38;5;129;01min\u001b[39;00m \u001b[38;5;28mrange\u001b[39m(\u001b[38;5;28mlen\u001b[39m(question_list)):\n\u001b[0;32m      2\u001b[0m     qc\u001b[38;5;241m.\u001b[39mprogress_indicator(idx\u001b[38;5;241m+\u001b[39m\u001b[38;5;241m1\u001b[39m, \u001b[38;5;28mlen\u001b[39m(question_list))\n\u001b[1;32m----> 3\u001b[0m     \u001b[43mquestion_list\u001b[49m\u001b[43m[\u001b[49m\u001b[43midx\u001b[49m\u001b[43m]\u001b[49m\u001b[38;5;241;43m.\u001b[39;49m\u001b[43mdisplay_question\u001b[49m\u001b[43m(\u001b[49m\u001b[43m)\u001b[49m\n\u001b[0;32m      4\u001b[0m     clear_output()\n\u001b[0;32m      5\u001b[0m     time\u001b[38;5;241m.\u001b[39msleep(\u001b[38;5;241m1.5\u001b[39m)\n",
      "File \u001b[1;32mN:\\Documents\\BIOS0030\\Assessments\\CognitiveTest\\ANSTest\\question_constructor.py:361\u001b[0m, in \u001b[0;36mANSQuestion.display_question\u001b[1;34m(self)\u001b[0m\n\u001b[0;32m    358\u001b[0m display(\u001b[38;5;28mself\u001b[39m\u001b[38;5;241m.\u001b[39moptions_box)\n\u001b[0;32m    360\u001b[0m \u001b[38;5;66;03m# Check for submission.\u001b[39;00m\n\u001b[1;32m--> 361\u001b[0m \u001b[38;5;28;43mself\u001b[39;49m\u001b[38;5;241;43m.\u001b[39;49m\u001b[43mwait_for_submission\u001b[49m\u001b[43m(\u001b[49m\u001b[43m)\u001b[49m\n\u001b[0;32m    363\u001b[0m \u001b[38;5;28;01mreturn\u001b[39;00m\n",
      "File \u001b[1;32mN:\\Documents\\BIOS0030\\Assessments\\CognitiveTest\\ANSTest\\question_constructor.py:238\u001b[0m, in \u001b[0;36mQuestion.wait_for_submission\u001b[1;34m(self, timeout, interval, max_rate, allow_interupt)\u001b[0m\n\u001b[0;32m    235\u001b[0m             keep_looping \u001b[38;5;241m=\u001b[39m \u001b[38;5;28;01mFalse\u001b[39;00m\n\u001b[0;32m    237\u001b[0m         \u001b[38;5;66;03m# add pause before looping to check submission again\u001b[39;00m\n\u001b[1;32m--> 238\u001b[0m         \u001b[43mtime\u001b[49m\u001b[38;5;241;43m.\u001b[39;49m\u001b[43msleep\u001b[49m\u001b[43m(\u001b[49m\u001b[43minterval\u001b[49m\u001b[43m)\u001b[49m\n\u001b[0;32m    240\u001b[0m \u001b[38;5;28;01mreturn\u001b[39;00m\n",
      "\u001b[1;31mKeyboardInterrupt\u001b[0m: "
     ]
    }
   ],
   "source": [
    "for idx in range(len(question_list)):\n",
    "    qc.progress_indicator(idx+1, len(question_list))\n",
    "    question_list[idx].display_question()\n",
    "    clear_output()\n",
    "    time.sleep(1.5)"
   ]
  },
  {
   "cell_type": "code",
   "execution_count": null,
   "id": "9e53c514-e3b2-49df-81a4-c07aba1502dc",
   "metadata": {},
   "outputs": [],
   "source": []
  },
  {
   "cell_type": "code",
   "execution_count": null,
   "id": "366c59ef-8f04-48da-9da6-78236fd5bf4d",
   "metadata": {},
   "outputs": [],
   "source": []
  }
 ],
 "metadata": {
  "kernelspec": {
   "display_name": "Python 3 (ipykernel)",
   "language": "python",
   "name": "python3"
  },
  "language_info": {
   "codemirror_mode": {
    "name": "ipython",
    "version": 3
   },
   "file_extension": ".py",
   "mimetype": "text/x-python",
   "name": "python",
   "nbconvert_exporter": "python",
   "pygments_lexer": "ipython3",
   "version": "3.10.9"
  }
 },
 "nbformat": 4,
 "nbformat_minor": 5
}
