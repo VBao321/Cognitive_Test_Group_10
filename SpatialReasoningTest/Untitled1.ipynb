{
 "cells": [
  {
   "cell_type": "code",
   "execution_count": 1,
   "id": "58055113-8fa1-4cde-8623-ae777de53abd",
   "metadata": {},
   "outputs": [],
   "source": [
    "import cube_constructor as cc\n",
    "import question_constructor as qc\n",
    "import SRQuestion_generator as sg\n",
    "from IPython.display import display, Image, clear_output, HTML, Javascript\n",
    "import time"
   ]
  },
  {
   "cell_type": "code",
   "execution_count": 2,
   "id": "d05cc178-e673-42a7-97c1-97095c5e4292",
   "metadata": {},
   "outputs": [],
   "source": [
    "question_info_list = sg.SRQuestion_bank(12)"
   ]
  },
  {
   "cell_type": "code",
   "execution_count": 3,
   "id": "94dd2ebe-de99-4d0f-819a-0b8dd4dc7240",
   "metadata": {},
   "outputs": [
    {
     "name": "stdout",
     "output_type": "stream",
     "text": [
      "{'./Figures/SRQ_1_b.png': 'b', './Figures/SRQ_1_a.png': 'a', './Figures/SRQ_1_d.png': 'd', './Figures/SRQ_1_c.png': 'c'}\n",
      "{'./Figures/SRQ_2_a.png': 'a', './Figures/SRQ_2_c.png': 'c', './Figures/SRQ_2_d.png': 'd', './Figures/SRQ_2_b.png': 'b'}\n",
      "{'./Figures/SRQ_3_d.png': 'd', './Figures/SRQ_3_c.png': 'c', './Figures/SRQ_3_a.png': 'a', './Figures/SRQ_3_b.png': 'b'}\n",
      "{'./Figures/SRQ_4_d.png': 'd', './Figures/SRQ_4_b.png': 'b', './Figures/SRQ_4_c.png': 'c', './Figures/SRQ_4_a.png': 'a'}\n",
      "{'./Figures/SRQ_5_a.png': 'a', './Figures/SRQ_5_b.png': 'b', './Figures/SRQ_5_c.png': 'c', './Figures/SRQ_5_d.png': 'd'}\n",
      "{'./Figures/SRQ_6_b.png': 'b', './Figures/SRQ_6_d.png': 'd', './Figures/SRQ_6_c.png': 'c', './Figures/SRQ_6_a.png': 'a'}\n",
      "{'./Figures/SRQ_7_d.png': 'd', './Figures/SRQ_7_a.png': 'a', './Figures/SRQ_7_c.png': 'c', './Figures/SRQ_7_b.png': 'b'}\n",
      "{'./Figures/SRQ_8_a.png': 'a', './Figures/SRQ_8_d.png': 'd', './Figures/SRQ_8_b.png': 'b', './Figures/SRQ_8_c.png': 'c'}\n",
      "{'./Figures/SRQ_9_d.png': 'd', './Figures/SRQ_9_c.png': 'c', './Figures/SRQ_9_a.png': 'a', './Figures/SRQ_9_b.png': 'b'}\n",
      "{'./Figures/SRQ_10_a.png': 'a', './Figures/SRQ_10_b.png': 'b', './Figures/SRQ_10_d.png': 'd', './Figures/SRQ_10_c.png': 'c'}\n",
      "{'./Figures/SRQ_11_b.png': 'b', './Figures/SRQ_11_c.png': 'c', './Figures/SRQ_11_a.png': 'a', './Figures/SRQ_11_d.png': 'd'}\n",
      "{'./Figures/SRQ_12_c.png': 'c', './Figures/SRQ_12_d.png': 'd', './Figures/SRQ_12_a.png': 'a', './Figures/SRQ_12_b.png': 'b'}\n"
     ]
    }
   ],
   "source": [
    "question_list = []\n",
    "for idx in range(len(question_info_list)):\n",
    "    question_info = question_info_list[idx]\n",
    "    print(question_info[1])\n",
    "    question = qc.SpatialReasoningQuestion(description=\"Which of the views (a-d) can not be made by rotating the cube arrangement shown?\", description_img=question_info[0], options=question_info[1], answer=question_info[2])\n",
    "    question_list.append(question)"
   ]
  },
  {
   "cell_type": "code",
   "execution_count": 4,
   "id": "755a26ff-a4b9-4bf0-aed8-b0b64425f64b",
   "metadata": {},
   "outputs": [],
   "source": [
    "for idx in range(len(question_list)):\n",
    "    qc.progress_indicator(idx+1, len(question_list))\n",
    "    question_list[idx].display_question()\n",
    "    clear_output()"
   ]
  },
  {
   "cell_type": "code",
   "execution_count": 5,
   "id": "9a550eb7-a497-4a7d-9b17-e61ff954b2bc",
   "metadata": {},
   "outputs": [
    {
     "name": "stdout",
     "output_type": "stream",
     "text": [
      "True\n",
      "True\n",
      "True\n",
      "True\n",
      "False\n",
      "False\n",
      "True\n",
      "False\n",
      "True\n",
      "True\n",
      "False\n",
      "True\n"
     ]
    }
   ],
   "source": [
    "for question in question_list:\n",
    "    print(question.correctness)"
   ]
  },
  {
   "cell_type": "code",
   "execution_count": null,
   "id": "70c93f9d-68cb-4fe5-b323-d4039b02c352",
   "metadata": {},
   "outputs": [],
   "source": []
  }
 ],
 "metadata": {
  "kernelspec": {
   "display_name": "Python 3 (ipykernel)",
   "language": "python",
   "name": "python3"
  },
  "language_info": {
   "codemirror_mode": {
    "name": "ipython",
    "version": 3
   },
   "file_extension": ".py",
   "mimetype": "text/x-python",
   "name": "python",
   "nbconvert_exporter": "python",
   "pygments_lexer": "ipython3",
   "version": "3.10.9"
  }
 },
 "nbformat": 4,
 "nbformat_minor": 5
}
