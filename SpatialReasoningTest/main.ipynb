{
 "cells": [
  {
   "cell_type": "code",
   "execution_count": 1,
   "id": "58055113-8fa1-4cde-8623-ae777de53abd",
   "metadata": {},
   "outputs": [],
   "source": [
    "import cube_constructor as cc\n",
    "import question_constructor as qc\n",
    "import SRQuestion_generator as sg\n",
    "import data_interaction as di\n",
    "import numpy as np\n",
    "from IPython.display import display, Image, clear_output, HTML, Javascript\n",
    "import time"
   ]
  },
  {
   "cell_type": "code",
   "execution_count": 2,
   "id": "d05cc178-e673-42a7-97c1-97095c5e4292",
   "metadata": {},
   "outputs": [],
   "source": [
    "image_list, options_list, answer_list = sg.SRQuestion_bank(12)\n",
    "\n",
    "data_dict = {\n",
    "    \"user_id\":None,\n",
    "    \"age\":None,\n",
    "    \"gender\":None,\n",
    "    \"total_score\":0,\n",
    "    \"total_time\":0,\n",
    "    \"question_3d_image_list\":image_list,\n",
    "    \"question_options_list\":options_list,\n",
    "    \"question_answer_list\":answer_list,\n",
    "    \"score_list\":[],\n",
    "    \"time_list\":[]\n",
    "}"
   ]
  },
  {
   "cell_type": "code",
   "execution_count": 8,
   "id": "6098f5c2-dc96-41cd-bd3e-c04dd3ae1247",
   "metadata": {},
   "outputs": [],
   "source": [
    "def opening():\n",
    "    approval = False\n",
    "    print(\"Please read:\")\n",
    "    print(\"\")\n",
    "    print(\"we wish to record your response data to an anonymised public data repository.\")\n",
    "    print(\"Your data will be used for educational teaching purposes practising data analysis and visualisation.\")\n",
    "    print(\"\")\n",
    "    print(\"Please type   yes   in the box below if you consent to the upload.\")\n",
    "    result = input(\"> \")\n",
    "    if result == \"yes\":\n",
    "        approval = True\n",
    "        id_instructions = \"\"\"\n",
    "\n",
    "            Enter your anonymised ID\n",
    "\n",
    "            To generate an anonymous 4-letter unique user identifier please enter:\n",
    "            - two letters based on the initials (first and last name) of a childhood friend\n",
    "            - two letters based on the initials (first and last name) of a favourite actor / actress\n",
    "\n",
    "            e.g. if your friend was called Charlie Brown and film star was Tom Cruise\n",
    "                 then your unique identifier would be CBTC\n",
    "            \"\"\"\n",
    "\n",
    "        print(id_instructions)\n",
    "        data_dict[\"user_id\"] = input(\"> \")\n",
    "\n",
    "        print(\"Please type your age in the box bellow.\")\n",
    "        data_dict[\"age\"] = input(\"> \")\n",
    "        print(\"Please type your gender in the box bellow.(Male, Female or Other)\")\n",
    "        data_dict[\"gender\"] = input(\"> \")\n",
    "    else:\n",
    "        print(\"No problem we hope you have a nice day.\")\n",
    "    \n",
    "    time.sleep(2)\n",
    "    return approval"
   ]
  },
  {
   "cell_type": "code",
   "execution_count": 4,
   "id": "b1634221-92a9-4707-ab64-34a4a1d79543",
   "metadata": {},
   "outputs": [],
   "source": [
    "def ending(question_list):\n",
    "    print(f\"Thank you for taking the test!\")\n",
    "    print(f\"You have got {data_dict['total_score']}/{len(question_list)}.\")\n",
    "    print(f\"You have beaten {percentile_rank_calculator()}% of people in dataset.\")\n",
    "    print(\"Wish you a nice day!\")"
   ]
  },
  {
   "cell_type": "code",
   "execution_count": 5,
   "id": "c0d97d9c-066c-4714-952b-2dcbd1f03992",
   "metadata": {},
   "outputs": [],
   "source": [
    "def percentile_rank_calculator():\n",
    "    score_list = np.array(di.get_data([\"total_score\"],\"1tCOXmEs6dRc-4nNfNs9BeZPTZsg8iRds7F2mhBSNotI\")[\"total_score\"]).astype(int)\n",
    "    count = sum(1 for score in score_list if score < data_dict[\"total_score\"])\n",
    "    index = count\n",
    "    \n",
    "    percentage = (index / len(score_list)) * 100\n",
    "    \n",
    "    return percentage"
   ]
  },
  {
   "cell_type": "code",
   "execution_count": 6,
   "id": "94dd2ebe-de99-4d0f-819a-0b8dd4dc7240",
   "metadata": {},
   "outputs": [],
   "source": [
    "def main():\n",
    "    question_list = []\n",
    "    for idx in range(len(answer_list)):\n",
    "        question = qc.SpatialReasoningQuestion(description=\"Which of the views (a-d) can not be made by rotating the cube arrangement shown?\",\n",
    "                                               description_img=image_list[idx],\n",
    "                                               options=options_list[idx],\n",
    "                                               answer=answer_list[idx]\n",
    "                                              )\n",
    "        question_list.append(question)\n",
    "    progress_bar = qc.set_progress_bar(len(question_list))\n",
    "    if opening():\n",
    "        clear_output(wait=True)\n",
    "        for idx in range(len(question_list)):\n",
    "            qc.update_progress_bar(progress_bar, idx+1)\n",
    "            display(progress_bar)\n",
    "            question_list[idx].display_question()\n",
    "            clear_output()\n",
    "        \n",
    "        for question in question_list:\n",
    "            if question.correctness:\n",
    "                data_dict[\"total_score\"] += 1\n",
    "                data_dict[\"score_list\"].append(1)\n",
    "            else:\n",
    "                data_dict[\"score_list\"].append(0)\n",
    "            data_dict[\"total_time\"] += question.get_time()\n",
    "            data_dict[\"time_list\"].append(question.get_time())\n",
    "            \n",
    "        di.send_data(data_dict, \"1FAIpQLSeg0mO4taHmaOFavbHc4yxajewiUt-IiqVT1h63rf7_kGNmBQ\")\n",
    "        ending(question_list)"
   ]
  },
  {
   "cell_type": "code",
   "execution_count": 7,
   "id": "3e71cc60-d72f-4b57-a86c-eecdd5b65591",
   "metadata": {},
   "outputs": [
    {
     "name": "stdout",
     "output_type": "stream",
     "text": [
      "Thank you for taking the test!\n",
      "You have got 1/6.\n",
      "You have beaten 0.0% of people in dataset.\n",
      "Wish you a nice day!\n"
     ]
    }
   ],
   "source": [
    "main()"
   ]
  },
  {
   "cell_type": "code",
   "execution_count": null,
   "id": "09b4cfe6-dcfa-4007-8f1e-ae1fcff27161",
   "metadata": {},
   "outputs": [],
   "source": []
  }
 ],
 "metadata": {
  "kernelspec": {
   "display_name": "Python 3 (ipykernel)",
   "language": "python",
   "name": "python3"
  },
  "language_info": {
   "codemirror_mode": {
    "name": "ipython",
    "version": 3
   },
   "file_extension": ".py",
   "mimetype": "text/x-python",
   "name": "python",
   "nbconvert_exporter": "python",
   "pygments_lexer": "ipython3",
   "version": "3.10.9"
  }
 },
 "nbformat": 4,
 "nbformat_minor": 5
}
