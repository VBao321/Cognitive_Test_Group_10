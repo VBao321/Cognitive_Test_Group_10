{
 "cells": [
  {
   "cell_type": "code",
   "execution_count": 1,
   "id": "58055113-8fa1-4cde-8623-ae777de53abd",
   "metadata": {},
   "outputs": [
    {
     "data": {
      "text/html": [
       "\n",
       "    <div style=\"display: grid; place-items: center;\"\">\n",
       "    <div>\n",
       "    <h3>Please read:</h3>\n",
       "    <p>We wish to record your response data to an anonymised public data repository.</p>\n",
       "    <p>Your data will be used for educational teaching purposes practising data analysis and visualisation.</p>\n",
       "    <p>Please click <b>Yes</b> below if you consent to the upload.</p>\n",
       "    </div>\n",
       "    </div>\n",
       "    "
      ],
      "text/plain": [
       "<IPython.core.display.HTML object>"
      ]
     },
     "metadata": {},
     "output_type": "display_data"
    },
    {
     "data": {
      "application/vnd.jupyter.widget-view+json": {
       "model_id": "94c736d77ca3448ba1ad81caaaba294e",
       "version_major": 2,
       "version_minor": 0
      },
      "text/plain": [
       "HBox(children=(Button(button_style='success', description='Yes', style=ButtonStyle()), Button(button_style='da…"
      ]
     },
     "metadata": {},
     "output_type": "display_data"
    },
    {
     "ename": "KeyboardInterrupt",
     "evalue": "",
     "output_type": "error",
     "traceback": [
      "\u001b[1;31m---------------------------------------------------------------------------\u001b[0m",
      "\u001b[1;31mKeyboardInterrupt\u001b[0m                         Traceback (most recent call last)",
      "File \u001b[1;32m\\\\ad.ucl.ac.uk\\homeo\\zcbtbao\\Documents\\BIOS0030\\Assessments\\CognitiveTest\\SpatialReasoningTest\\main.py:208\u001b[0m\n\u001b[0;32m    205\u001b[0m         di\u001b[38;5;241m.\u001b[39msend_data(data_dict, \u001b[38;5;124m\"\u001b[39m\u001b[38;5;124m1FAIpQLSeg0mO4taHmaOFavbHc4yxajewiUt-IiqVT1h63rf7_kGNmBQ\u001b[39m\u001b[38;5;124m\"\u001b[39m)\n\u001b[0;32m    206\u001b[0m         ending()\n\u001b[1;32m--> 208\u001b[0m \u001b[43mmain\u001b[49m\u001b[43m(\u001b[49m\u001b[43m)\u001b[49m\n",
      "File \u001b[1;32m\\\\ad.ucl.ac.uk\\homeo\\zcbtbao\\Documents\\BIOS0030\\Assessments\\CognitiveTest\\SpatialReasoningTest\\main.py:185\u001b[0m, in \u001b[0;36mmain\u001b[1;34m()\u001b[0m\n\u001b[0;32m    178\u001b[0m     question \u001b[38;5;241m=\u001b[39m qc\u001b[38;5;241m.\u001b[39mSpatialReasoningQuestion(description\u001b[38;5;241m=\u001b[39m\u001b[38;5;124m\"\u001b[39m\u001b[38;5;124mWhich of the views (a-d) can not be made by rotating the cube arrangement shown?\u001b[39m\u001b[38;5;124m\"\u001b[39m,\n\u001b[0;32m    179\u001b[0m                                            description_img\u001b[38;5;241m=\u001b[39mimage_list[idx],\n\u001b[0;32m    180\u001b[0m                                            options\u001b[38;5;241m=\u001b[39moptions_list[idx],\n\u001b[0;32m    181\u001b[0m                                            answer\u001b[38;5;241m=\u001b[39manswer_list[idx],\n\u001b[0;32m    182\u001b[0m                                            timeout\u001b[38;5;241m=\u001b[39m\u001b[38;5;241m25\u001b[39m\n\u001b[0;32m    183\u001b[0m                                           )\n\u001b[0;32m    184\u001b[0m     question_list\u001b[38;5;241m.\u001b[39mappend(question)\n\u001b[1;32m--> 185\u001b[0m \u001b[43mopening\u001b[49m\u001b[43m(\u001b[49m\u001b[43m)\u001b[49m\n\u001b[0;32m    186\u001b[0m \u001b[38;5;28;01mif\u001b[39;00m data_dict[\u001b[38;5;124m\"\u001b[39m\u001b[38;5;124mconsent\u001b[39m\u001b[38;5;124m\"\u001b[39m]:\n\u001b[0;32m    187\u001b[0m     clear_output(wait\u001b[38;5;241m=\u001b[39m\u001b[38;5;28;01mTrue\u001b[39;00m)\n",
      "File \u001b[1;32m\\\\ad.ucl.ac.uk\\homeo\\zcbtbao\\Documents\\BIOS0030\\Assessments\\CognitiveTest\\SpatialReasoningTest\\main.py:116\u001b[0m, in \u001b[0;36mopening\u001b[1;34m()\u001b[0m\n\u001b[0;32m    114\u001b[0m btn_yes\u001b[38;5;241m.\u001b[39mon_click(consent_submission)\n\u001b[0;32m    115\u001b[0m btn_no\u001b[38;5;241m.\u001b[39mon_click(consent_submission)\n\u001b[1;32m--> 116\u001b[0m \u001b[43mwait_for_submission\u001b[49m\u001b[43m(\u001b[49m\u001b[43m)\u001b[49m\n\u001b[0;32m    117\u001b[0m clear_output(wait\u001b[38;5;241m=\u001b[39m\u001b[38;5;28;01mTrue\u001b[39;00m)\n\u001b[0;32m    118\u001b[0m \u001b[38;5;28;01mif\u001b[39;00m data_dict[\u001b[38;5;124m\"\u001b[39m\u001b[38;5;124mconsent\u001b[39m\u001b[38;5;124m\"\u001b[39m] \u001b[38;5;241m==\u001b[39m \u001b[38;5;28;01mTrue\u001b[39;00m:\n",
      "File \u001b[1;32m\\\\ad.ucl.ac.uk\\homeo\\zcbtbao\\Documents\\BIOS0030\\Assessments\\CognitiveTest\\SpatialReasoningTest\\main.py:72\u001b[0m, in \u001b[0;36mwait_for_submission\u001b[1;34m(timeout, interval, max_rate, allow_interupt)\u001b[0m\n\u001b[0;32m     69\u001b[0m             keep_looping \u001b[38;5;241m=\u001b[39m \u001b[38;5;28;01mFalse\u001b[39;00m\n\u001b[0;32m     71\u001b[0m         \u001b[38;5;66;03m# add pause before looping to check submission again\u001b[39;00m\n\u001b[1;32m---> 72\u001b[0m         \u001b[43mtime\u001b[49m\u001b[38;5;241;43m.\u001b[39;49m\u001b[43msleep\u001b[49m\u001b[43m(\u001b[49m\u001b[43minterval\u001b[49m\u001b[43m)\u001b[49m\n\u001b[0;32m     74\u001b[0m \u001b[38;5;28;01mreturn\u001b[39;00m\n",
      "\u001b[1;31mKeyboardInterrupt\u001b[0m: "
     ]
    }
   ],
   "source": [
    "!pip install --upgrade matplotlib\n",
    "%run main.py"
   ]
  }
 ],
 "metadata": {
  "kernelspec": {
   "display_name": "Python 3 (ipykernel)",
   "language": "python",
   "name": "python3"
  },
  "language_info": {
   "codemirror_mode": {
    "name": "ipython",
    "version": 3
   },
   "file_extension": ".py",
   "mimetype": "text/x-python",
   "name": "python",
   "nbconvert_exporter": "python",
   "pygments_lexer": "ipython3",
   "version": "3.10.9"
  }
 },
 "nbformat": 4,
 "nbformat_minor": 5
}
